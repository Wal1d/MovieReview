{
 "metadata": {
  "language_info": {
   "codemirror_mode": {
    "name": "ipython",
    "version": 3
   },
   "file_extension": ".py",
   "mimetype": "text/x-python",
   "name": "python",
   "nbconvert_exporter": "python",
   "pygments_lexer": "ipython3",
   "version": "3.8.5-final"
  },
  "orig_nbformat": 2,
  "kernelspec": {
   "name": "python3",
   "display_name": "Python 3",
   "language": "python"
  }
 },
 "nbformat": 4,
 "nbformat_minor": 2,
 "cells": [
  {
   "source": [
    "### https://towardsdatascience.com/a-practitioners-guide-to-natural-language-processing-part-i-processing-understanding-text-9f4abfd13e72"
   ],
   "cell_type": "markdown",
   "metadata": {}
  },
  {
   "cell_type": "code",
   "execution_count": 1,
   "metadata": {},
   "outputs": [],
   "source": [
    "%matplotlib inline   \n",
    "%config InlineBackend.figure_format = 'svg'\n",
    "import matplotlib.pyplot as plt\n",
    "LARGE_FIG_SIZE=(20, 15)\n",
    "\n",
    "import pandas as pd\n",
    "import numpy as np\n",
    "import seaborn as sns\n",
    "\n",
    "from sklearn.preprocessing  import  OrdinalEncoder\n",
    "from sklearn.model_selection import StratifiedShuffleSplit"
   ]
  },
  {
   "cell_type": "code",
   "execution_count": 2,
   "metadata": {},
   "outputs": [
    {
     "output_type": "execute_result",
     "data": {
      "text/plain": [
       "       Unnamed: 0   type                                             review  \\\n",
       "0               0   test  Once again Mr. Costner has dragged out a movie...   \n",
       "1               1   test  This is an example of why the majority of acti...   \n",
       "2               2   test  First of all I hate those moronic rappers, who...   \n",
       "3               3   test  Not even the Beatles could write songs everyon...   \n",
       "4               4   test  Brass pictures (movies is not a fitting word f...   \n",
       "...           ...    ...                                                ...   \n",
       "99995       99995  train  Delightfully awful! Made by David Giancola, a ...   \n",
       "99996       99996  train  Watching Time Chasers, it obvious that it was ...   \n",
       "99997       99997  train  At the beginning we can see members of Troma t...   \n",
       "99998       99998  train  The movie was incredible, ever since I saw it ...   \n",
       "99999       99999  train  TCM came through by acquiring this wonderful, ...   \n",
       "\n",
       "       label         file  \n",
       "0        neg      0_2.txt  \n",
       "1        neg  10000_4.txt  \n",
       "2        neg  10001_1.txt  \n",
       "3        neg  10002_3.txt  \n",
       "4        neg  10003_3.txt  \n",
       "...      ...          ...  \n",
       "99995  unsup   9998_0.txt  \n",
       "99996  unsup   9999_0.txt  \n",
       "99997  unsup    999_0.txt  \n",
       "99998  unsup     99_0.txt  \n",
       "99999  unsup      9_0.txt  \n",
       "\n",
       "[100000 rows x 5 columns]"
      ],
      "text/html": "<div>\n<style scoped>\n    .dataframe tbody tr th:only-of-type {\n        vertical-align: middle;\n    }\n\n    .dataframe tbody tr th {\n        vertical-align: top;\n    }\n\n    .dataframe thead th {\n        text-align: right;\n    }\n</style>\n<table border=\"1\" class=\"dataframe\">\n  <thead>\n    <tr style=\"text-align: right;\">\n      <th></th>\n      <th>Unnamed: 0</th>\n      <th>type</th>\n      <th>review</th>\n      <th>label</th>\n      <th>file</th>\n    </tr>\n  </thead>\n  <tbody>\n    <tr>\n      <th>0</th>\n      <td>0</td>\n      <td>test</td>\n      <td>Once again Mr. Costner has dragged out a movie...</td>\n      <td>neg</td>\n      <td>0_2.txt</td>\n    </tr>\n    <tr>\n      <th>1</th>\n      <td>1</td>\n      <td>test</td>\n      <td>This is an example of why the majority of acti...</td>\n      <td>neg</td>\n      <td>10000_4.txt</td>\n    </tr>\n    <tr>\n      <th>2</th>\n      <td>2</td>\n      <td>test</td>\n      <td>First of all I hate those moronic rappers, who...</td>\n      <td>neg</td>\n      <td>10001_1.txt</td>\n    </tr>\n    <tr>\n      <th>3</th>\n      <td>3</td>\n      <td>test</td>\n      <td>Not even the Beatles could write songs everyon...</td>\n      <td>neg</td>\n      <td>10002_3.txt</td>\n    </tr>\n    <tr>\n      <th>4</th>\n      <td>4</td>\n      <td>test</td>\n      <td>Brass pictures (movies is not a fitting word f...</td>\n      <td>neg</td>\n      <td>10003_3.txt</td>\n    </tr>\n    <tr>\n      <th>...</th>\n      <td>...</td>\n      <td>...</td>\n      <td>...</td>\n      <td>...</td>\n      <td>...</td>\n    </tr>\n    <tr>\n      <th>99995</th>\n      <td>99995</td>\n      <td>train</td>\n      <td>Delightfully awful! Made by David Giancola, a ...</td>\n      <td>unsup</td>\n      <td>9998_0.txt</td>\n    </tr>\n    <tr>\n      <th>99996</th>\n      <td>99996</td>\n      <td>train</td>\n      <td>Watching Time Chasers, it obvious that it was ...</td>\n      <td>unsup</td>\n      <td>9999_0.txt</td>\n    </tr>\n    <tr>\n      <th>99997</th>\n      <td>99997</td>\n      <td>train</td>\n      <td>At the beginning we can see members of Troma t...</td>\n      <td>unsup</td>\n      <td>999_0.txt</td>\n    </tr>\n    <tr>\n      <th>99998</th>\n      <td>99998</td>\n      <td>train</td>\n      <td>The movie was incredible, ever since I saw it ...</td>\n      <td>unsup</td>\n      <td>99_0.txt</td>\n    </tr>\n    <tr>\n      <th>99999</th>\n      <td>99999</td>\n      <td>train</td>\n      <td>TCM came through by acquiring this wonderful, ...</td>\n      <td>unsup</td>\n      <td>9_0.txt</td>\n    </tr>\n  </tbody>\n</table>\n<p>100000 rows × 5 columns</p>\n</div>"
     },
     "metadata": {},
     "execution_count": 2
    }
   ],
   "source": [
    "df = pd.read_csv('./imdb_master.csv', encoding=\"latin-1\")\n",
    "df"
   ]
  },
  {
   "cell_type": "code",
   "execution_count": 3,
   "metadata": {},
   "outputs": [
    {
     "output_type": "execute_result",
     "data": {
      "text/plain": [
       "        type                                             review  label\n",
       "0       test  Once again Mr. Costner has dragged out a movie...    neg\n",
       "1       test  This is an example of why the majority of acti...    neg\n",
       "2       test  First of all I hate those moronic rappers, who...    neg\n",
       "3       test  Not even the Beatles could write songs everyon...    neg\n",
       "4       test  Brass pictures (movies is not a fitting word f...    neg\n",
       "...      ...                                                ...    ...\n",
       "99995  train  Delightfully awful! Made by David Giancola, a ...  unsup\n",
       "99996  train  Watching Time Chasers, it obvious that it was ...  unsup\n",
       "99997  train  At the beginning we can see members of Troma t...  unsup\n",
       "99998  train  The movie was incredible, ever since I saw it ...  unsup\n",
       "99999  train  TCM came through by acquiring this wonderful, ...  unsup\n",
       "\n",
       "[100000 rows x 3 columns]"
      ],
      "text/html": "<div>\n<style scoped>\n    .dataframe tbody tr th:only-of-type {\n        vertical-align: middle;\n    }\n\n    .dataframe tbody tr th {\n        vertical-align: top;\n    }\n\n    .dataframe thead th {\n        text-align: right;\n    }\n</style>\n<table border=\"1\" class=\"dataframe\">\n  <thead>\n    <tr style=\"text-align: right;\">\n      <th></th>\n      <th>type</th>\n      <th>review</th>\n      <th>label</th>\n    </tr>\n  </thead>\n  <tbody>\n    <tr>\n      <th>0</th>\n      <td>test</td>\n      <td>Once again Mr. Costner has dragged out a movie...</td>\n      <td>neg</td>\n    </tr>\n    <tr>\n      <th>1</th>\n      <td>test</td>\n      <td>This is an example of why the majority of acti...</td>\n      <td>neg</td>\n    </tr>\n    <tr>\n      <th>2</th>\n      <td>test</td>\n      <td>First of all I hate those moronic rappers, who...</td>\n      <td>neg</td>\n    </tr>\n    <tr>\n      <th>3</th>\n      <td>test</td>\n      <td>Not even the Beatles could write songs everyon...</td>\n      <td>neg</td>\n    </tr>\n    <tr>\n      <th>4</th>\n      <td>test</td>\n      <td>Brass pictures (movies is not a fitting word f...</td>\n      <td>neg</td>\n    </tr>\n    <tr>\n      <th>...</th>\n      <td>...</td>\n      <td>...</td>\n      <td>...</td>\n    </tr>\n    <tr>\n      <th>99995</th>\n      <td>train</td>\n      <td>Delightfully awful! Made by David Giancola, a ...</td>\n      <td>unsup</td>\n    </tr>\n    <tr>\n      <th>99996</th>\n      <td>train</td>\n      <td>Watching Time Chasers, it obvious that it was ...</td>\n      <td>unsup</td>\n    </tr>\n    <tr>\n      <th>99997</th>\n      <td>train</td>\n      <td>At the beginning we can see members of Troma t...</td>\n      <td>unsup</td>\n    </tr>\n    <tr>\n      <th>99998</th>\n      <td>train</td>\n      <td>The movie was incredible, ever since I saw it ...</td>\n      <td>unsup</td>\n    </tr>\n    <tr>\n      <th>99999</th>\n      <td>train</td>\n      <td>TCM came through by acquiring this wonderful, ...</td>\n      <td>unsup</td>\n    </tr>\n  </tbody>\n</table>\n<p>100000 rows × 3 columns</p>\n</div>"
     },
     "metadata": {},
     "execution_count": 3
    }
   ],
   "source": [
    "df = df.drop(['Unnamed: 0','file'],axis=1)\n",
    "df"
   ]
  },
  {
   "cell_type": "code",
   "execution_count": 4,
   "metadata": {},
   "outputs": [
    {
     "output_type": "execute_result",
     "data": {
      "text/plain": [
       "array(['neg', 'pos', 'unsup'], dtype=object)"
      ]
     },
     "metadata": {},
     "execution_count": 4
    }
   ],
   "source": [
    "df.label.unique()"
   ]
  },
  {
   "cell_type": "code",
   "execution_count": 12,
   "metadata": {},
   "outputs": [
    {
     "output_type": "execute_result",
     "data": {
      "text/plain": [
       "        type                                             review  label\n",
       "0       test  Once again Mr. Costner has dragged out a movie...      0\n",
       "1       test  This is an example of why the majority of acti...      0\n",
       "2       test  First of all I hate those moronic rappers, who...      0\n",
       "3       test  Not even the Beatles could write songs everyon...      0\n",
       "4       test  Brass pictures (movies is not a fitting word f...      0\n",
       "...      ...                                                ...    ...\n",
       "49995  train  Seeing as the vote average was pretty low, and...      1\n",
       "49996  train  The plot had some wretched, unbelievable twist...      1\n",
       "49997  train  I am amazed at how this movie(and most others ...      1\n",
       "49998  train  A Christmas Together actually came before my t...      1\n",
       "49999  train  Working-class romantic drama from director Mar...      1\n",
       "\n",
       "[50000 rows x 3 columns]"
      ],
      "text/html": "<div>\n<style scoped>\n    .dataframe tbody tr th:only-of-type {\n        vertical-align: middle;\n    }\n\n    .dataframe tbody tr th {\n        vertical-align: top;\n    }\n\n    .dataframe thead th {\n        text-align: right;\n    }\n</style>\n<table border=\"1\" class=\"dataframe\">\n  <thead>\n    <tr style=\"text-align: right;\">\n      <th></th>\n      <th>type</th>\n      <th>review</th>\n      <th>label</th>\n    </tr>\n  </thead>\n  <tbody>\n    <tr>\n      <th>0</th>\n      <td>test</td>\n      <td>Once again Mr. Costner has dragged out a movie...</td>\n      <td>0</td>\n    </tr>\n    <tr>\n      <th>1</th>\n      <td>test</td>\n      <td>This is an example of why the majority of acti...</td>\n      <td>0</td>\n    </tr>\n    <tr>\n      <th>2</th>\n      <td>test</td>\n      <td>First of all I hate those moronic rappers, who...</td>\n      <td>0</td>\n    </tr>\n    <tr>\n      <th>3</th>\n      <td>test</td>\n      <td>Not even the Beatles could write songs everyon...</td>\n      <td>0</td>\n    </tr>\n    <tr>\n      <th>4</th>\n      <td>test</td>\n      <td>Brass pictures (movies is not a fitting word f...</td>\n      <td>0</td>\n    </tr>\n    <tr>\n      <th>...</th>\n      <td>...</td>\n      <td>...</td>\n      <td>...</td>\n    </tr>\n    <tr>\n      <th>49995</th>\n      <td>train</td>\n      <td>Seeing as the vote average was pretty low, and...</td>\n      <td>1</td>\n    </tr>\n    <tr>\n      <th>49996</th>\n      <td>train</td>\n      <td>The plot had some wretched, unbelievable twist...</td>\n      <td>1</td>\n    </tr>\n    <tr>\n      <th>49997</th>\n      <td>train</td>\n      <td>I am amazed at how this movie(and most others ...</td>\n      <td>1</td>\n    </tr>\n    <tr>\n      <th>49998</th>\n      <td>train</td>\n      <td>A Christmas Together actually came before my t...</td>\n      <td>1</td>\n    </tr>\n    <tr>\n      <th>49999</th>\n      <td>train</td>\n      <td>Working-class romantic drama from director Mar...</td>\n      <td>1</td>\n    </tr>\n  </tbody>\n</table>\n<p>50000 rows × 3 columns</p>\n</div>"
     },
     "metadata": {},
     "execution_count": 12
    }
   ],
   "source": [
    "df = df[df.label != 'unsup']\n",
    "df"
   ]
  },
  {
   "cell_type": "code",
   "execution_count": null,
   "metadata": {},
   "outputs": [],
   "source": [
    "df.label.unique()"
   ]
  },
  {
   "cell_type": "code",
   "execution_count": 6,
   "metadata": {},
   "outputs": [
    {
     "output_type": "execute_result",
     "data": {
      "text/plain": [
       "array([0, 1])"
      ]
     },
     "metadata": {},
     "execution_count": 6
    }
   ],
   "source": [
    "## Map Movie review emotion : Postive = 1, Negatif = 0\n",
    "df['label'] = df['label'].map({'pos': 1, 'neg': 0})\n",
    "df.label.unique()"
   ]
  },
  {
   "cell_type": "code",
   "execution_count": 7,
   "metadata": {},
   "outputs": [
    {
     "output_type": "execute_result",
     "data": {
      "text/plain": [
       "   type                                             review  label\n",
       "0  test  Once again Mr. Costner has dragged out a movie...      0\n",
       "1  test  This is an example of why the majority of acti...      0\n",
       "2  test  First of all I hate those moronic rappers, who...      0\n",
       "3  test  Not even the Beatles could write songs everyon...      0\n",
       "4  test  Brass pictures (movies is not a fitting word f...      0"
      ],
      "text/html": "<div>\n<style scoped>\n    .dataframe tbody tr th:only-of-type {\n        vertical-align: middle;\n    }\n\n    .dataframe tbody tr th {\n        vertical-align: top;\n    }\n\n    .dataframe thead th {\n        text-align: right;\n    }\n</style>\n<table border=\"1\" class=\"dataframe\">\n  <thead>\n    <tr style=\"text-align: right;\">\n      <th></th>\n      <th>type</th>\n      <th>review</th>\n      <th>label</th>\n    </tr>\n  </thead>\n  <tbody>\n    <tr>\n      <th>0</th>\n      <td>test</td>\n      <td>Once again Mr. Costner has dragged out a movie...</td>\n      <td>0</td>\n    </tr>\n    <tr>\n      <th>1</th>\n      <td>test</td>\n      <td>This is an example of why the majority of acti...</td>\n      <td>0</td>\n    </tr>\n    <tr>\n      <th>2</th>\n      <td>test</td>\n      <td>First of all I hate those moronic rappers, who...</td>\n      <td>0</td>\n    </tr>\n    <tr>\n      <th>3</th>\n      <td>test</td>\n      <td>Not even the Beatles could write songs everyon...</td>\n      <td>0</td>\n    </tr>\n    <tr>\n      <th>4</th>\n      <td>test</td>\n      <td>Brass pictures (movies is not a fitting word f...</td>\n      <td>0</td>\n    </tr>\n  </tbody>\n</table>\n</div>"
     },
     "metadata": {},
     "execution_count": 7
    }
   ],
   "source": [
    "df.head()"
   ]
  },
  {
   "cell_type": "code",
   "execution_count": 8,
   "metadata": {},
   "outputs": [
    {
     "output_type": "execute_result",
     "data": {
      "text/plain": [
       "array(['test', 'train'], dtype=object)"
      ]
     },
     "metadata": {},
     "execution_count": 8
    }
   ],
   "source": [
    "df.type.unique()"
   ]
  },
  {
   "cell_type": "code",
   "execution_count": 23,
   "metadata": {},
   "outputs": [
    {
     "output_type": "execute_result",
     "data": {
      "text/plain": [
       "       level_0  index   type  \\\n",
       "0            0  25000  train   \n",
       "1            1  25001  train   \n",
       "2            2  25002  train   \n",
       "3            3  25003  train   \n",
       "4            4  25004  train   \n",
       "...        ...    ...    ...   \n",
       "24995    24995  49995  train   \n",
       "24996    24996  49996  train   \n",
       "24997    24997  49997  train   \n",
       "24998    24998  49998  train   \n",
       "24999    24999  49999  train   \n",
       "\n",
       "                                                  review  label  \n",
       "0      Story of a man who has unnatural feelings for ...      0  \n",
       "1      Airport '77 starts as a brand new luxury 747 p...      0  \n",
       "2      This film lacked something I couldn't put my f...      0  \n",
       "3      Sorry everyone,,, I know this is supposed to b...      0  \n",
       "4      When I was little my parents took me along to ...      0  \n",
       "...                                                  ...    ...  \n",
       "24995  Seeing as the vote average was pretty low, and...      1  \n",
       "24996  The plot had some wretched, unbelievable twist...      1  \n",
       "24997  I am amazed at how this movie(and most others ...      1  \n",
       "24998  A Christmas Together actually came before my t...      1  \n",
       "24999  Working-class romantic drama from director Mar...      1  \n",
       "\n",
       "[25000 rows x 5 columns]"
      ],
      "text/html": "<div>\n<style scoped>\n    .dataframe tbody tr th:only-of-type {\n        vertical-align: middle;\n    }\n\n    .dataframe tbody tr th {\n        vertical-align: top;\n    }\n\n    .dataframe thead th {\n        text-align: right;\n    }\n</style>\n<table border=\"1\" class=\"dataframe\">\n  <thead>\n    <tr style=\"text-align: right;\">\n      <th></th>\n      <th>level_0</th>\n      <th>index</th>\n      <th>type</th>\n      <th>review</th>\n      <th>label</th>\n    </tr>\n  </thead>\n  <tbody>\n    <tr>\n      <th>0</th>\n      <td>0</td>\n      <td>25000</td>\n      <td>train</td>\n      <td>Story of a man who has unnatural feelings for ...</td>\n      <td>0</td>\n    </tr>\n    <tr>\n      <th>1</th>\n      <td>1</td>\n      <td>25001</td>\n      <td>train</td>\n      <td>Airport '77 starts as a brand new luxury 747 p...</td>\n      <td>0</td>\n    </tr>\n    <tr>\n      <th>2</th>\n      <td>2</td>\n      <td>25002</td>\n      <td>train</td>\n      <td>This film lacked something I couldn't put my f...</td>\n      <td>0</td>\n    </tr>\n    <tr>\n      <th>3</th>\n      <td>3</td>\n      <td>25003</td>\n      <td>train</td>\n      <td>Sorry everyone,,, I know this is supposed to b...</td>\n      <td>0</td>\n    </tr>\n    <tr>\n      <th>4</th>\n      <td>4</td>\n      <td>25004</td>\n      <td>train</td>\n      <td>When I was little my parents took me along to ...</td>\n      <td>0</td>\n    </tr>\n    <tr>\n      <th>...</th>\n      <td>...</td>\n      <td>...</td>\n      <td>...</td>\n      <td>...</td>\n      <td>...</td>\n    </tr>\n    <tr>\n      <th>24995</th>\n      <td>24995</td>\n      <td>49995</td>\n      <td>train</td>\n      <td>Seeing as the vote average was pretty low, and...</td>\n      <td>1</td>\n    </tr>\n    <tr>\n      <th>24996</th>\n      <td>24996</td>\n      <td>49996</td>\n      <td>train</td>\n      <td>The plot had some wretched, unbelievable twist...</td>\n      <td>1</td>\n    </tr>\n    <tr>\n      <th>24997</th>\n      <td>24997</td>\n      <td>49997</td>\n      <td>train</td>\n      <td>I am amazed at how this movie(and most others ...</td>\n      <td>1</td>\n    </tr>\n    <tr>\n      <th>24998</th>\n      <td>24998</td>\n      <td>49998</td>\n      <td>train</td>\n      <td>A Christmas Together actually came before my t...</td>\n      <td>1</td>\n    </tr>\n    <tr>\n      <th>24999</th>\n      <td>24999</td>\n      <td>49999</td>\n      <td>train</td>\n      <td>Working-class romantic drama from director Mar...</td>\n      <td>1</td>\n    </tr>\n  </tbody>\n</table>\n<p>25000 rows × 5 columns</p>\n</div>"
     },
     "metadata": {},
     "execution_count": 23
    }
   ],
   "source": []
  },
  {
   "cell_type": "code",
   "execution_count": 9,
   "metadata": {},
   "outputs": [
    {
     "output_type": "stream",
     "name": "stdout",
     "text": [
      "(25000, 2) (25000,)\n"
     ]
    },
    {
     "output_type": "execute_result",
     "data": {
      "text/plain": [
       "                                                  review  label\n",
       "0      Story of a man who has unnatural feelings for ...      0\n",
       "1      Airport '77 starts as a brand new luxury 747 p...      0\n",
       "2      This film lacked something I couldn't put my f...      0\n",
       "3      Sorry everyone,,, I know this is supposed to b...      0\n",
       "4      When I was little my parents took me along to ...      0\n",
       "...                                                  ...    ...\n",
       "24995  Seeing as the vote average was pretty low, and...      1\n",
       "24996  The plot had some wretched, unbelievable twist...      1\n",
       "24997  I am amazed at how this movie(and most others ...      1\n",
       "24998  A Christmas Together actually came before my t...      1\n",
       "24999  Working-class romantic drama from director Mar...      1\n",
       "\n",
       "[25000 rows x 2 columns]"
      ],
      "text/html": "<div>\n<style scoped>\n    .dataframe tbody tr th:only-of-type {\n        vertical-align: middle;\n    }\n\n    .dataframe tbody tr th {\n        vertical-align: top;\n    }\n\n    .dataframe thead th {\n        text-align: right;\n    }\n</style>\n<table border=\"1\" class=\"dataframe\">\n  <thead>\n    <tr style=\"text-align: right;\">\n      <th></th>\n      <th>review</th>\n      <th>label</th>\n    </tr>\n  </thead>\n  <tbody>\n    <tr>\n      <th>0</th>\n      <td>Story of a man who has unnatural feelings for ...</td>\n      <td>0</td>\n    </tr>\n    <tr>\n      <th>1</th>\n      <td>Airport '77 starts as a brand new luxury 747 p...</td>\n      <td>0</td>\n    </tr>\n    <tr>\n      <th>2</th>\n      <td>This film lacked something I couldn't put my f...</td>\n      <td>0</td>\n    </tr>\n    <tr>\n      <th>3</th>\n      <td>Sorry everyone,,, I know this is supposed to b...</td>\n      <td>0</td>\n    </tr>\n    <tr>\n      <th>4</th>\n      <td>When I was little my parents took me along to ...</td>\n      <td>0</td>\n    </tr>\n    <tr>\n      <th>...</th>\n      <td>...</td>\n      <td>...</td>\n    </tr>\n    <tr>\n      <th>24995</th>\n      <td>Seeing as the vote average was pretty low, and...</td>\n      <td>1</td>\n    </tr>\n    <tr>\n      <th>24996</th>\n      <td>The plot had some wretched, unbelievable twist...</td>\n      <td>1</td>\n    </tr>\n    <tr>\n      <th>24997</th>\n      <td>I am amazed at how this movie(and most others ...</td>\n      <td>1</td>\n    </tr>\n    <tr>\n      <th>24998</th>\n      <td>A Christmas Together actually came before my t...</td>\n      <td>1</td>\n    </tr>\n    <tr>\n      <th>24999</th>\n      <td>Working-class romantic drama from director Mar...</td>\n      <td>1</td>\n    </tr>\n  </tbody>\n</table>\n<p>25000 rows × 2 columns</p>\n</div>"
     },
     "metadata": {},
     "execution_count": 9
    }
   ],
   "source": [
    "X_train = df.query('type == \"train\"')\n",
    "X_train.reset_index(inplace=True)\n",
    "X_train.drop(['type', 'index'], inplace=True, axis=1)\n",
    "Y_train = X_train.index\n",
    "print(X_train.shape, Y_train.shape)\n",
    "X_train "
   ]
  },
  {
   "cell_type": "code",
   "execution_count": 11,
   "metadata": {},
   "outputs": [
    {
     "output_type": "stream",
     "name": "stdout",
     "text": [
      "(25000, 2) (25000,)\n"
     ]
    },
    {
     "output_type": "execute_result",
     "data": {
      "text/plain": [
       "                                                  review  label\n",
       "0      Once again Mr. Costner has dragged out a movie...      0\n",
       "1      This is an example of why the majority of acti...      0\n",
       "2      First of all I hate those moronic rappers, who...      0\n",
       "3      Not even the Beatles could write songs everyon...      0\n",
       "4      Brass pictures (movies is not a fitting word f...      0\n",
       "...                                                  ...    ...\n",
       "24995  I was extraordinarily impressed by this film. ...      1\n",
       "24996  Although I'm not a golf fan, I attended a snea...      1\n",
       "24997  From the start of \"The Edge Of Love\", the view...      1\n",
       "24998  This movie, with all its complexity and subtle...      1\n",
       "24999  I've seen this story before but my kids haven'...      1\n",
       "\n",
       "[25000 rows x 2 columns]"
      ],
      "text/html": "<div>\n<style scoped>\n    .dataframe tbody tr th:only-of-type {\n        vertical-align: middle;\n    }\n\n    .dataframe tbody tr th {\n        vertical-align: top;\n    }\n\n    .dataframe thead th {\n        text-align: right;\n    }\n</style>\n<table border=\"1\" class=\"dataframe\">\n  <thead>\n    <tr style=\"text-align: right;\">\n      <th></th>\n      <th>review</th>\n      <th>label</th>\n    </tr>\n  </thead>\n  <tbody>\n    <tr>\n      <th>0</th>\n      <td>Once again Mr. Costner has dragged out a movie...</td>\n      <td>0</td>\n    </tr>\n    <tr>\n      <th>1</th>\n      <td>This is an example of why the majority of acti...</td>\n      <td>0</td>\n    </tr>\n    <tr>\n      <th>2</th>\n      <td>First of all I hate those moronic rappers, who...</td>\n      <td>0</td>\n    </tr>\n    <tr>\n      <th>3</th>\n      <td>Not even the Beatles could write songs everyon...</td>\n      <td>0</td>\n    </tr>\n    <tr>\n      <th>4</th>\n      <td>Brass pictures (movies is not a fitting word f...</td>\n      <td>0</td>\n    </tr>\n    <tr>\n      <th>...</th>\n      <td>...</td>\n      <td>...</td>\n    </tr>\n    <tr>\n      <th>24995</th>\n      <td>I was extraordinarily impressed by this film. ...</td>\n      <td>1</td>\n    </tr>\n    <tr>\n      <th>24996</th>\n      <td>Although I'm not a golf fan, I attended a snea...</td>\n      <td>1</td>\n    </tr>\n    <tr>\n      <th>24997</th>\n      <td>From the start of \"The Edge Of Love\", the view...</td>\n      <td>1</td>\n    </tr>\n    <tr>\n      <th>24998</th>\n      <td>This movie, with all its complexity and subtle...</td>\n      <td>1</td>\n    </tr>\n    <tr>\n      <th>24999</th>\n      <td>I've seen this story before but my kids haven'...</td>\n      <td>1</td>\n    </tr>\n  </tbody>\n</table>\n<p>25000 rows × 2 columns</p>\n</div>"
     },
     "metadata": {},
     "execution_count": 11
    }
   ],
   "source": [
    "X_test = df.query('type == \"test\"')\n",
    "X_test.reset_index(inplace=True)\n",
    "X_test.drop(['type', 'index'], inplace=True, axis=1)\n",
    "Y_test = X_test.index \n",
    "print(X_test.shape, Y_test.shape)\n",
    "X_test"
   ]
  },
  {
   "source": [
    "#### Distrubution 50/50 => Is this acceptable? "
   ],
   "cell_type": "markdown",
   "metadata": {}
  },
  {
   "source": [
    "### Word Treatement"
   ],
   "cell_type": "markdown",
   "metadata": {}
  },
  {
   "cell_type": "code",
   "execution_count": 15,
   "metadata": {},
   "outputs": [
    {
     "output_type": "execute_result",
     "data": {
      "text/plain": [
       "TfidfVectorizer(max_df=0.5, min_df=5, ngram_range=(1, 2))"
      ]
     },
     "metadata": {},
     "execution_count": 15
    }
   ],
   "source": [
    "from sklearn.feature_extraction.text import TfidfVectorizer\n",
    "tfidf = TfidfVectorizer(min_df=5, max_df=0.5, ngram_range=(1, 2))\n",
    "tfidf"
   ]
  },
  {
   "cell_type": "code",
   "execution_count": null,
   "metadata": {},
   "outputs": [],
   "source": []
  }
 ]
}